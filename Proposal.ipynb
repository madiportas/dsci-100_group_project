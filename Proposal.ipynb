# TITLE
### Katie Liang and Madilyn Portas
***
