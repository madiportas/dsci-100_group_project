{
 "cells": [
  {
   "cell_type": "markdown",
   "id": "159792ce-d5ac-48bf-b219-6aa47a11fc4d",
   "metadata": {
    "tags": []
   },
   "source": [
    "# TITLE #\n",
    "#### Katie Liang and Madilyn Portas ####\n",
    "***"
   ]
  },
  {
   "cell_type": "markdown",
   "id": "9b800b23-d17f-4e73-9476-c57d49328010",
   "metadata": {},
   "source": [
    "### INTRODUCTION ###\n",
    "insert intro text here\n",
    "***"
   ]
  },
  {
   "cell_type": "markdown",
   "id": "e84da9bc-1994-40eb-8220-514415aaf6ed",
   "metadata": {
    "tags": []
   },
   "source": [
    "### PRELIMINARY DATA ANALYSIS ###"
   ]
  },
  {
   "cell_type": "code",
   "execution_count": 51,
   "id": "0aa8f4db-8941-42ca-84ee-358f99f8101c",
   "metadata": {
    "tags": []
   },
   "outputs": [],
   "source": [
    "# libraries\n",
    "library(tidyverse)\n",
    "library(tidymodels)"
   ]
  },
  {
   "cell_type": "code",
   "execution_count": 56,
   "id": "7a30b098-d102-4642-a9c4-6f5fc6c7a2fb",
   "metadata": {
    "tags": []
   },
   "outputs": [
    {
     "data": {
      "text/html": [
       "<table class=\"dataframe\">\n",
       "<caption>A data.frame: 6 × 3</caption>\n",
       "<thead>\n",
       "\t<tr><th></th><th scope=col>integrated_profile_mean</th><th scope=col>DM.SNR_curve_mean</th><th scope=col>class</th></tr>\n",
       "\t<tr><th></th><th scope=col>&lt;dbl&gt;</th><th scope=col>&lt;dbl&gt;</th><th scope=col>&lt;int&gt;</th></tr>\n",
       "</thead>\n",
       "<tbody>\n",
       "\t<tr><th scope=row>2</th><td>102.50781</td><td>1.6772575</td><td>0</td></tr>\n",
       "\t<tr><th scope=row>3</th><td>103.01562</td><td>3.1212375</td><td>0</td></tr>\n",
       "\t<tr><th scope=row>4</th><td>136.75000</td><td>3.6429766</td><td>0</td></tr>\n",
       "\t<tr><th scope=row>6</th><td> 93.57031</td><td>1.6362876</td><td>0</td></tr>\n",
       "\t<tr><th scope=row>7</th><td>119.48438</td><td>0.9991639</td><td>0</td></tr>\n",
       "\t<tr><th scope=row>8</th><td>130.38281</td><td>1.2207358</td><td>0</td></tr>\n",
       "</tbody>\n",
       "</table>\n"
      ],
      "text/latex": [
       "A data.frame: 6 × 3\n",
       "\\begin{tabular}{r|lll}\n",
       "  & integrated\\_profile\\_mean & DM.SNR\\_curve\\_mean & class\\\\\n",
       "  & <dbl> & <dbl> & <int>\\\\\n",
       "\\hline\n",
       "\t2 & 102.50781 & 1.6772575 & 0\\\\\n",
       "\t3 & 103.01562 & 3.1212375 & 0\\\\\n",
       "\t4 & 136.75000 & 3.6429766 & 0\\\\\n",
       "\t6 &  93.57031 & 1.6362876 & 0\\\\\n",
       "\t7 & 119.48438 & 0.9991639 & 0\\\\\n",
       "\t8 & 130.38281 & 1.2207358 & 0\\\\\n",
       "\\end{tabular}\n"
      ],
      "text/markdown": [
       "\n",
       "A data.frame: 6 × 3\n",
       "\n",
       "| <!--/--> | integrated_profile_mean &lt;dbl&gt; | DM.SNR_curve_mean &lt;dbl&gt; | class &lt;int&gt; |\n",
       "|---|---|---|---|\n",
       "| 2 | 102.50781 | 1.6772575 | 0 |\n",
       "| 3 | 103.01562 | 3.1212375 | 0 |\n",
       "| 4 | 136.75000 | 3.6429766 | 0 |\n",
       "| 6 |  93.57031 | 1.6362876 | 0 |\n",
       "| 7 | 119.48438 | 0.9991639 | 0 |\n",
       "| 8 | 130.38281 | 1.2207358 | 0 |\n",
       "\n"
      ],
      "text/plain": [
       "  integrated_profile_mean DM.SNR_curve_mean class\n",
       "2 102.50781               1.6772575         0    \n",
       "3 103.01562               3.1212375         0    \n",
       "4 136.75000               3.6429766         0    \n",
       "6  93.57031               1.6362876         0    \n",
       "7 119.48438               0.9991639         0    \n",
       "8 130.38281               1.2207358         0    "
      ]
     },
     "metadata": {},
     "output_type": "display_data"
    }
   ],
   "source": [
    "# load data\n",
    "url <- \"https://raw.githubusercontent.com/madiportas/dsci-100_group_project/main/HTRU_2.csv\"\n",
    "pulsar_raw <- read.csv(url)\n",
    "\n",
    "# wrangle data \n",
    "# remove uneeded columns\n",
    "pulsar <- pulsar_raw |>\n",
    "    select(integrated_profile_mean, DM.SNR_curve_mean, class)\n",
    "\n",
    "# split data \n",
    "set.seed(1)\n",
    "pulsar_split <- pulsar |> \n",
    "    initial_split(0.75, strata = class)\n",
    "pulsar_train <- training(pulsar_split)\n",
    "pulsar_test <- testing(pulsar_split)\n",
    "head(pulsar_train)"
   ]
  },
  {
   "cell_type": "code",
   "execution_count": 58,
   "id": "7ec892bb-2002-4c7d-9645-75bffbc768f7",
   "metadata": {},
   "outputs": [
    {
     "data": {
      "text/html": [
       "<table class=\"dataframe\">\n",
       "<caption>A tibble: 2 × 7</caption>\n",
       "<thead>\n",
       "\t<tr><th scope=col>class</th><th scope=col>mean_integrated_profile_mean</th><th scope=col>max_integrated_profile_mean</th><th scope=col>min_integrated_profile_mean</th><th scope=col>mean_DM.SNR_curve_mean</th><th scope=col>max_DM.SNR_curve_mean</th><th scope=col>min_DM.SNR_curve_mean</th></tr>\n",
       "\t<tr><th scope=col>&lt;int&gt;</th><th scope=col>&lt;dbl&gt;</th><th scope=col>&lt;dbl&gt;</th><th scope=col>&lt;dbl&gt;</th><th scope=col>&lt;dbl&gt;</th><th scope=col>&lt;dbl&gt;</th><th scope=col>&lt;dbl&gt;</th></tr>\n",
       "</thead>\n",
       "<tbody>\n",
       "\t<tr><td>0</td><td>116.6413</td><td>192.6172</td><td>17.21094</td><td> 9.066603</td><td>222.4214</td><td>0.2132107</td></tr>\n",
       "\t<tr><td>1</td><td> 56.2505</td><td>139.2578</td><td> 5.81250</td><td>50.169655</td><td>184.5259</td><td>0.6789298</td></tr>\n",
       "</tbody>\n",
       "</table>\n"
      ],
      "text/latex": [
       "A tibble: 2 × 7\n",
       "\\begin{tabular}{lllllll}\n",
       " class & mean\\_integrated\\_profile\\_mean & max\\_integrated\\_profile\\_mean & min\\_integrated\\_profile\\_mean & mean\\_DM.SNR\\_curve\\_mean & max\\_DM.SNR\\_curve\\_mean & min\\_DM.SNR\\_curve\\_mean\\\\\n",
       " <int> & <dbl> & <dbl> & <dbl> & <dbl> & <dbl> & <dbl>\\\\\n",
       "\\hline\n",
       "\t 0 & 116.6413 & 192.6172 & 17.21094 &  9.066603 & 222.4214 & 0.2132107\\\\\n",
       "\t 1 &  56.2505 & 139.2578 &  5.81250 & 50.169655 & 184.5259 & 0.6789298\\\\\n",
       "\\end{tabular}\n"
      ],
      "text/markdown": [
       "\n",
       "A tibble: 2 × 7\n",
       "\n",
       "| class &lt;int&gt; | mean_integrated_profile_mean &lt;dbl&gt; | max_integrated_profile_mean &lt;dbl&gt; | min_integrated_profile_mean &lt;dbl&gt; | mean_DM.SNR_curve_mean &lt;dbl&gt; | max_DM.SNR_curve_mean &lt;dbl&gt; | min_DM.SNR_curve_mean &lt;dbl&gt; |\n",
       "|---|---|---|---|---|---|---|\n",
       "| 0 | 116.6413 | 192.6172 | 17.21094 |  9.066603 | 222.4214 | 0.2132107 |\n",
       "| 1 |  56.2505 | 139.2578 |  5.81250 | 50.169655 | 184.5259 | 0.6789298 |\n",
       "\n"
      ],
      "text/plain": [
       "  class mean_integrated_profile_mean max_integrated_profile_mean\n",
       "1 0     116.6413                     192.6172                   \n",
       "2 1      56.2505                     139.2578                   \n",
       "  min_integrated_profile_mean mean_DM.SNR_curve_mean max_DM.SNR_curve_mean\n",
       "1 17.21094                     9.066603              222.4214             \n",
       "2  5.81250                    50.169655              184.5259             \n",
       "  min_DM.SNR_curve_mean\n",
       "1 0.2132107            \n",
       "2 0.6789298            "
      ]
     },
     "metadata": {},
     "output_type": "display_data"
    }
   ],
   "source": [
    "# summarize data \n",
    "summmary <- group_by(pulsar_train, class) |>\n",
    "    summarize(\n",
    "        mean_integrated_profile = mean(integrated_profile_mean),\n",
    "        max_integrated_profile = max(integrated_profile_mean), \n",
    "        min_integrated_profile = min(integrated_profile_mean), \n",
    "        mean_DM.SNR_curve = mean(DM.SNR_curve_mean),\n",
    "        max_DM.SNR_curve = max(DM.SNR_curve_mean), \n",
    "        min_DM.SNR_curve = min(DM.SNR_curve_mean))\n",
    "summary "
   ]
  },
  {
   "cell_type": "code",
   "execution_count": 5,
   "id": "4e8c4420-fe5a-4348-ad87-f7aa5d89b622",
   "metadata": {
    "tags": []
   },
   "outputs": [],
   "source": [
    "# visualize data\n",
    "# insert visualize code"
   ]
  },
  {
   "cell_type": "markdown",
   "id": "b163c9b6-10fa-4bca-95a0-dd6b4ed32a0f",
   "metadata": {},
   "source": [
    "***"
   ]
  },
  {
   "cell_type": "markdown",
   "id": "7e3cbf09-9c38-4418-9ddd-59c3a7444dce",
   "metadata": {},
   "source": [
    "### METHODS ###\n",
    "insert methods text here\n",
    "***"
   ]
  },
  {
   "cell_type": "markdown",
   "id": "26550c38-2c76-4946-afa1-23802416d844",
   "metadata": {},
   "source": [
    "### EXPECTED OUTCOMES AND SIGNIFICANCE ###\n",
    "insert outcomes and significance text here\n",
    "***"
   ]
  },
  {
   "cell_type": "markdown",
   "id": "0ac59c7c-46b4-44c7-9d9c-ad4848f9302d",
   "metadata": {},
   "source": [
    "### CITATIONS ###\n",
    "Lyon, Robert. (2017). HTRU2. UCI Machine Learning Repository. https://doi.org/10.24432/C5DK6R.\n",
    "\n",
    "R. J. Lyon, B. W. Stappers, S. Cooper, J. M. Brooke, J. D. Knowles, Fifty Years of Pulsar\n",
    "\tCandidate Selection: From simple filters to a new principled real-time classification approach\n",
    "\tMNRAS, 2016.\n",
    "***"
   ]
  },
  {
   "cell_type": "code",
   "execution_count": null,
   "id": "fcb7bc7a-a4dc-4bb5-8fc2-986eb99b6019",
   "metadata": {},
   "outputs": [],
   "source": []
  }
 ],
 "metadata": {
  "kernelspec": {
   "display_name": "R",
   "language": "R",
   "name": "ir"
  },
  "language_info": {
   "codemirror_mode": "r",
   "file_extension": ".r",
   "mimetype": "text/x-r-source",
   "name": "R",
   "pygments_lexer": "r",
   "version": "4.2.2"
  }
 },
 "nbformat": 4,
 "nbformat_minor": 5
}
