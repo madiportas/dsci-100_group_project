{
 "cells": [
  {
   "cell_type": "markdown",
   "id": "159792ce-d5ac-48bf-b219-6aa47a11fc4d",
   "metadata": {
    "tags": []
   },
   "source": [
    "# TITLE #\n",
    "### Katie Liang and Madilyn Portas ###\n",
    "***"
   ]
  },
  {
   "cell_type": "code",
   "execution_count": 3,
   "id": "0aa8f4db-8941-42ca-84ee-358f99f8101c",
   "metadata": {
    "tags": []
   },
   "outputs": [],
   "source": [
    "# test\n",
    "set.seed(1)"
   ]
  },
  {
   "cell_type": "code",
   "execution_count": 4,
   "id": "7a30b098-d102-4642-a9c4-6f5fc6c7a2fb",
   "metadata": {
    "tags": []
   },
   "outputs": [],
   "source": []
  },
  {
   "cell_type": "code",
   "execution_count": null,
   "id": "7ec892bb-2002-4c7d-9645-75bffbc768f7",
   "metadata": {},
   "outputs": [],
   "source": []
  }
 ],
 "metadata": {
  "kernelspec": {
   "display_name": "R",
   "language": "R",
   "name": "ir"
  },
  "language_info": {
   "codemirror_mode": "r",
   "file_extension": ".r",
   "mimetype": "text/x-r-source",
   "name": "R",
   "pygments_lexer": "r",
   "version": "4.2.2"
  }
 },
 "nbformat": 4,
 "nbformat_minor": 5
}
