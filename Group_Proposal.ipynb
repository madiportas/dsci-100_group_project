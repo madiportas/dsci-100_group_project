{
 "cells": [
  {
   "cell_type": "markdown",
   "id": "159792ce-d5ac-48bf-b219-6aa47a11fc4d",
   "metadata": {
    "tags": []
   },
   "source": [
    "# TITLE #\n",
    "#### Katie Liang and Madilyn Portas ####\n",
    "***"
   ]
  },
  {
   "cell_type": "markdown",
   "id": "9b800b23-d17f-4e73-9476-c57d49328010",
   "metadata": {},
   "source": [
    "### INTRODUCTION ###\n",
    "insert intro text here\n",
    "***"
   ]
  },
  {
   "cell_type": "markdown",
   "id": "e84da9bc-1994-40eb-8220-514415aaf6ed",
   "metadata": {
    "tags": []
   },
   "source": [
    "### PRELIMINARY DATA ANALYSIS ###"
   ]
  },
  {
   "cell_type": "code",
   "execution_count": 14,
   "id": "0aa8f4db-8941-42ca-84ee-358f99f8101c",
   "metadata": {
    "tags": []
   },
   "outputs": [],
   "source": [
    "# libraries\n",
    "library(tidyverse)\n",
    "library(tidymodels)\n",
    "library(dplyr)\n",
    "library(repr)"
   ]
  },
  {
   "cell_type": "code",
   "execution_count": 15,
   "id": "7a30b098-d102-4642-a9c4-6f5fc6c7a2fb",
   "metadata": {
    "tags": []
   },
   "outputs": [
    {
     "ename": "ERROR",
     "evalue": "\u001b[1m\u001b[33mError\u001b[39m in `rename()`:\u001b[22m\n\u001b[33m!\u001b[39m Problem while evaluating `DM - SNR_curve_mean`.\n\u001b[1mCaused by error:\u001b[22m\n\u001b[33m!\u001b[39m object 'DM' not found\n",
     "output_type": "error",
     "traceback": [
      "\u001b[1m\u001b[33mError\u001b[39m in `rename()`:\u001b[22m\n\u001b[33m!\u001b[39m Problem while evaluating `DM - SNR_curve_mean`.\n\u001b[1mCaused by error:\u001b[22m\n\u001b[33m!\u001b[39m object 'DM' not found\nTraceback:\n",
      "1. rename(read.csv(url), ip_mean = integrated_profile_mean, ip_sd = integrated_profile_sd, \n .     ip_ek = integrated_profile_ek, ip_s = integrated_profile_s, \n .     DM_mean = DM - SNR_curve_mean, DM_sd = DM - SNR_curve_sd, \n .     DM_ek = DM - SNR_curve_ek, DM_s = DM - SNR_curve_s)",
      "2. rename.data.frame(read.csv(url), ip_mean = integrated_profile_mean, \n .     ip_sd = integrated_profile_sd, ip_ek = integrated_profile_ek, \n .     ip_s = integrated_profile_s, DM_mean = DM - SNR_curve_mean, \n .     DM_sd = DM - SNR_curve_sd, DM_ek = DM - SNR_curve_ek, DM_s = DM - \n .         SNR_curve_s)",
      "3. tidyselect::eval_rename(expr(c(...)), .data)",
      "4. rename_impl(data, names(data), as_quosure(expr, env), strict = strict, \n .     name_spec = name_spec, allow_predicates = allow_predicates, \n .     error_call = error_call)",
      "5. eval_select_impl(x, names, {\n .     {\n .         sel\n .     }\n . }, strict = strict, name_spec = name_spec, type = \"rename\", allow_predicates = allow_predicates, \n .     error_call = error_call)",
      "6. with_subscript_errors(out <- vars_select_eval(vars, expr, strict = strict, \n .     data = x, name_spec = name_spec, uniquely_named = uniquely_named, \n .     allow_rename = allow_rename, allow_empty = allow_empty, allow_predicates = allow_predicates, \n .     type = type, error_call = error_call), type = type)",
      "7. try_fetch(expr, vctrs_error_subscript = function(cnd) {\n .     cnd$subscript_action <- subscript_action(type)\n .     cnd$subscript_elt <- \"column\"\n .     cnd_signal(cnd)\n . })",
      "8. withCallingHandlers(expr, condition = function(cnd) {\n .     {\n .         .__handler_frame__. <- TRUE\n .         .__setup_frame__. <- frame\n .         if (inherits(cnd, \"message\")) {\n .             except <- c(\"warning\", \"error\")\n .         }\n .         else if (inherits(cnd, \"warning\")) {\n .             except <- \"error\"\n .         }\n .         else {\n .             except <- \"\"\n .         }\n .     }\n .     while (!is_null(cnd)) {\n .         if (inherits(cnd, \"vctrs_error_subscript\")) {\n .             out <- handlers[[1L]](cnd)\n .             if (!inherits(out, \"rlang_zap\")) \n .                 throw(out)\n .         }\n .         inherit <- .subset2(.subset2(cnd, \"rlang\"), \"inherit\")\n .         if (is_false(inherit)) {\n .             return()\n .         }\n .         cnd <- .subset2(cnd, \"parent\")\n .     }\n . })",
      "9. vars_select_eval(vars, expr, strict = strict, data = x, name_spec = name_spec, \n .     uniquely_named = uniquely_named, allow_rename = allow_rename, \n .     allow_empty = allow_empty, allow_predicates = allow_predicates, \n .     type = type, error_call = error_call)",
      "10. walk_data_tree(expr, data_mask, context_mask)",
      "11. eval_c(expr, data_mask, context_mask)",
      "12. reduce_sels(node, data_mask, context_mask, init = init)",
      "13. walk_data_tree(new, data_mask, context_mask)",
      "14. eval_minus(expr, data_mask, context_mask, error_call)",
      "15. eval_context(expr, context_mask, call = call)",
      "16. with_chained_errors(eval_tidy(as_quosure(expr, env), context_mask), \n  .     call = call, eval_expr = expr)",
      "17. try_fetch(expr, error = function(cnd) {\n  .     eval_expr <- quo_squash(eval_expr)\n  .     if (!is_call(eval_expr) || identical(cnd[[\"call\"]], call2(eval_expr[[1]]))) {\n  .         msg <- \"\"\n  .     }\n  .     else {\n  .         code <- as_label(eval_expr)\n  .         msg <- cli::format_inline(\"Problem while evaluating {.code {code}}.\")\n  .     }\n  .     abort(msg, call = call, parent = cnd)\n  . })",
      "18. tryCatch(withCallingHandlers(expr, condition = function(cnd) {\n  .     {\n  .         .__handler_frame__. <- TRUE\n  .         .__setup_frame__. <- frame\n  .         if (inherits(cnd, \"message\")) {\n  .             except <- c(\"warning\", \"error\")\n  .         }\n  .         else if (inherits(cnd, \"warning\")) {\n  .             except <- \"error\"\n  .         }\n  .         else {\n  .             except <- \"\"\n  .         }\n  .     }\n  .     while (!is_null(cnd)) {\n  .         if (inherits(cnd, \"error\")) {\n  .             out <- handlers[[1L]](cnd)\n  .             if (!inherits(out, \"rlang_zap\")) \n  .                 throw(out)\n  .         }\n  .         inherit <- .subset2(.subset2(cnd, \"rlang\"), \"inherit\")\n  .         if (is_false(inherit)) {\n  .             return()\n  .         }\n  .         cnd <- .subset2(cnd, \"parent\")\n  .     }\n  . }), stackOverflowError = handlers[[1L]])",
      "19. tryCatchList(expr, classes, parentenv, handlers)",
      "20. tryCatchOne(expr, names, parentenv, handlers[[1L]])",
      "21. doTryCatch(return(expr), name, parentenv, handler)",
      "22. withCallingHandlers(expr, condition = function(cnd) {\n  .     {\n  .         .__handler_frame__. <- TRUE\n  .         .__setup_frame__. <- frame\n  .         if (inherits(cnd, \"message\")) {\n  .             except <- c(\"warning\", \"error\")\n  .         }\n  .         else if (inherits(cnd, \"warning\")) {\n  .             except <- \"error\"\n  .         }\n  .         else {\n  .             except <- \"\"\n  .         }\n  .     }\n  .     while (!is_null(cnd)) {\n  .         if (inherits(cnd, \"error\")) {\n  .             out <- handlers[[1L]](cnd)\n  .             if (!inherits(out, \"rlang_zap\")) \n  .                 throw(out)\n  .         }\n  .         inherit <- .subset2(.subset2(cnd, \"rlang\"), \"inherit\")\n  .         if (is_false(inherit)) {\n  .             return()\n  .         }\n  .         cnd <- .subset2(cnd, \"parent\")\n  .     }\n  . })",
      "23. eval_tidy(as_quosure(expr, env), context_mask)",
      "24. .handleSimpleError(function (cnd) \n  . {\n  .     {\n  .         .__handler_frame__. <- TRUE\n  .         .__setup_frame__. <- frame\n  .         if (inherits(cnd, \"message\")) {\n  .             except <- c(\"warning\", \"error\")\n  .         }\n  .         else if (inherits(cnd, \"warning\")) {\n  .             except <- \"error\"\n  .         }\n  .         else {\n  .             except <- \"\"\n  .         }\n  .     }\n  .     while (!is_null(cnd)) {\n  .         if (inherits(cnd, \"error\")) {\n  .             out <- handlers[[1L]](cnd)\n  .             if (!inherits(out, \"rlang_zap\")) \n  .                 throw(out)\n  .         }\n  .         inherit <- .subset2(.subset2(cnd, \"rlang\"), \"inherit\")\n  .         if (is_false(inherit)) {\n  .             return()\n  .         }\n  .         cnd <- .subset2(cnd, \"parent\")\n  .     }\n  . }, \"object 'DM' not found\", base::quote(eval_tidy(as_quosure(expr, \n  .     env), context_mask)))",
      "25. h(simpleError(msg, call))",
      "26. handlers[[1L]](cnd)",
      "27. abort(msg, call = call, parent = cnd)",
      "28. signal_abort(cnd, .file)"
     ]
    }
   ],
   "source": [
    "# load data\n",
    "url <- \"https://raw.githubusercontent.com/madiportas/dsci-100_group_project/main/HTRU_2.csv\"\n",
    "pulsar_raw <- read.csv(url) |>\n",
    "              rename(ip_mean = integrated_profile_mean,\n",
    "                     ip_sd = integrated_profile_sd,\n",
    "                     ip_ek = integrated_profile_ek,\n",
    "                     ip_s = integrated_profile_s,\n",
    "                     DM_mean = DM-SNR_curve_mean, \n",
    "                     DM_sd = DM-SNR_curve_sd, \n",
    "                     DM_ek = DM-SNR_curve_ek,\n",
    "                     DM_s = DM-SNR_curve_s)\n",
    "\n",
    "\n",
    "# wrangle data \n",
    "# remove uneeded columns\n",
    "pulsar <- pulsar_raw |>\n",
    "    select(ip_mean, DM_mean, class)\n",
    "\n",
    "# split data \n",
    "set.seed(1)\n",
    "pulsar_split <- initial_split(pulsar, prop = 0.75, strata = class)\n",
    "pulsar_train <- training(pulsar_split)\n",
    "pulsar_test <- testing(pulsar_split)\n",
    "head(pulsar_train)"
   ]
  },
  {
   "cell_type": "code",
   "execution_count": 12,
   "id": "7ec892bb-2002-4c7d-9645-75bffbc768f7",
   "metadata": {
    "tags": []
   },
   "outputs": [
    {
     "ename": "ERROR",
     "evalue": "Error in group_by(pulsar_train, class): object 'pulsar_train' not found\n",
     "output_type": "error",
     "traceback": [
      "Error in group_by(pulsar_train, class): object 'pulsar_train' not found\nTraceback:\n",
      "1. summarize(group_by(pulsar_train, class), mean_integrated_profile = mean(integrated_profile_mean), \n .     max_integrated_profile = max(integrated_profile_mean), min_integrated_profile = min(integrated_profile_mean), \n .     mean_DM.SNR_curve = mean(DM.SNR_curve_mean), max_DM.SNR_curve = max(DM.SNR_curve_mean), \n .     min_DM.SNR_curve = min(DM.SNR_curve_mean))",
      "2. group_by(pulsar_train, class)"
     ]
    }
   ],
   "source": [
    "# summarize data \n",
    "summmary <- group_by(pulsar_train, class) |>\n",
    "    summarize(\n",
    "        mean_integrated_profile = mean(integrated_profile_mean),\n",
    "        max_integrated_profile = max(integrated_profile_mean), \n",
    "        min_integrated_profile = min(integrated_profile_mean), \n",
    "        mean_DM.SNR_curve = mean(DM.SNR_curve_mean),\n",
    "        max_DM.SNR_curve = max(DM.SNR_curve_mean), \n",
    "        min_DM.SNR_curve = min(DM.SNR_curve_mean))\n",
    "summary "
   ]
  },
  {
   "cell_type": "code",
   "execution_count": 5,
   "id": "4e8c4420-fe5a-4348-ad87-f7aa5d89b622",
   "metadata": {
    "tags": []
   },
   "outputs": [],
   "source": [
    "# visualize data\n",
    "# insert visualize code"
   ]
  },
  {
   "cell_type": "markdown",
   "id": "b163c9b6-10fa-4bca-95a0-dd6b4ed32a0f",
   "metadata": {},
   "source": [
    "***"
   ]
  },
  {
   "cell_type": "markdown",
   "id": "7e3cbf09-9c38-4418-9ddd-59c3a7444dce",
   "metadata": {},
   "source": [
    "### METHODS ###\n",
    "insert methods text here\n",
    "***"
   ]
  },
  {
   "cell_type": "markdown",
   "id": "26550c38-2c76-4946-afa1-23802416d844",
   "metadata": {},
   "source": [
    "### EXPECTED OUTCOMES AND SIGNIFICANCE ###\n",
    "insert outcomes and significance text here\n",
    "***"
   ]
  },
  {
   "cell_type": "markdown",
   "id": "0ac59c7c-46b4-44c7-9d9c-ad4848f9302d",
   "metadata": {},
   "source": [
    "### CITATIONS ###\n",
    "Lyon, Robert. (2017). HTRU2. UCI Machine Learning Repository. https://doi.org/10.24432/C5DK6R.\n",
    "\n",
    "R. J. Lyon, B. W. Stappers, S. Cooper, J. M. Brooke, J. D. Knowles, Fifty Years of Pulsar\n",
    "\tCandidate Selection: From simple filters to a new principled real-time classification approach\n",
    "\tMNRAS, 2016.\n",
    "***"
   ]
  },
  {
   "cell_type": "code",
   "execution_count": null,
   "id": "fcb7bc7a-a4dc-4bb5-8fc2-986eb99b6019",
   "metadata": {},
   "outputs": [],
   "source": []
  }
 ],
 "metadata": {
  "kernelspec": {
   "display_name": "R",
   "language": "R",
   "name": "ir"
  },
  "language_info": {
   "codemirror_mode": "r",
   "file_extension": ".r",
   "mimetype": "text/x-r-source",
   "name": "R",
   "pygments_lexer": "r",
   "version": "4.2.2"
  }
 },
 "nbformat": 4,
 "nbformat_minor": 5
}
